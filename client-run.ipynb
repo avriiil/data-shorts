{
 "cells": [
  {
   "cell_type": "markdown",
   "id": "7bf5cf54-ac27-47b4-ac28-316723ae43c5",
   "metadata": {},
   "source": [
    "<img src=\"images/dask_horizontal.svg\" width=250 />\n",
    "\n",
    "# Flexible Cloud Computing with `client.run()`"
   ]
  },
  {
   "cell_type": "markdown",
   "id": "b627c5e3-045c-4c41-ad27-55d10aad6ea1",
   "metadata": {},
   "source": [
    "Dask gives you a lot of flexibility. \n",
    "\n",
    "After pointing Dask to your remote cluster, any Dask code will automatically run on that cluster.\n",
    "\n",
    "But you're not restricted to running *only* Dask code on your cluster. **You can also run custom Python code on your cluster.**\n",
    "\n",
    "Let's take a look at the flexibility you can achieve with `client.run()`"
   ]
  },
  {
   "cell_type": "code",
   "execution_count": null,
   "id": "eb8942b0-9de3-41ce-bd2e-3a2e70b76534",
   "metadata": {},
   "outputs": [],
   "source": []
  },
  {
   "cell_type": "code",
   "execution_count": null,
   "id": "426e4f2a-0c82-4280-bd6f-cd6accddb8ba",
   "metadata": {},
   "outputs": [],
   "source": []
  },
  {
   "cell_type": "code",
   "execution_count": null,
   "id": "bd7e1322-b117-4a9b-b20d-48a3a63cdb28",
   "metadata": {},
   "outputs": [],
   "source": []
  },
  {
   "cell_type": "code",
   "execution_count": null,
   "id": "73688929-9bab-4ec5-9364-93e7514a3d3a",
   "metadata": {},
   "outputs": [],
   "source": []
  },
  {
   "cell_type": "code",
   "execution_count": null,
   "id": "fcceacd5-1c47-47d0-a17d-9745b5d94f43",
   "metadata": {},
   "outputs": [],
   "source": []
  },
  {
   "cell_type": "code",
   "execution_count": null,
   "id": "11aef17d-02e1-4313-b089-439000d582bc",
   "metadata": {},
   "outputs": [],
   "source": []
  },
  {
   "cell_type": "code",
   "execution_count": null,
   "id": "30a25081-af13-4e4b-8525-d0f25191e37d",
   "metadata": {},
   "outputs": [],
   "source": []
  },
  {
   "cell_type": "code",
   "execution_count": null,
   "id": "62cb615d-b1e9-4b59-b883-25a4bbec56d9",
   "metadata": {},
   "outputs": [],
   "source": []
  },
  {
   "cell_type": "code",
   "execution_count": null,
   "id": "e48c9831-fd62-4fbb-8c57-7cab0c9b295c",
   "metadata": {},
   "outputs": [],
   "source": []
  },
  {
   "cell_type": "code",
   "execution_count": null,
   "id": "2065c72c-8299-4b33-a510-04d5d19df14b",
   "metadata": {},
   "outputs": [],
   "source": []
  },
  {
   "cell_type": "code",
   "execution_count": null,
   "id": "c17c39c1-225a-4e6b-943b-1d65c0b5bbda",
   "metadata": {},
   "outputs": [],
   "source": []
  },
  {
   "cell_type": "code",
   "execution_count": null,
   "id": "df514b26-6c5e-429a-8b3f-e26966e94bd6",
   "metadata": {},
   "outputs": [],
   "source": []
  },
  {
   "cell_type": "code",
   "execution_count": null,
   "id": "0fde1114-b64c-45c8-91ed-2e42bc5442d2",
   "metadata": {},
   "outputs": [],
   "source": []
  },
  {
   "cell_type": "markdown",
   "id": "d38fe48f-1baf-4fcc-817e-325b6cb69551",
   "metadata": {
    "tags": []
   },
   "source": [
    "## Launch Cloud Computing Resources"
   ]
  },
  {
   "cell_type": "code",
   "execution_count": 1,
   "id": "030282b7-717f-4aaf-befe-32e93814b7d7",
   "metadata": {},
   "outputs": [],
   "source": [
    "import coiled"
   ]
  },
  {
   "cell_type": "code",
   "execution_count": 2,
   "id": "513ba8a4-dceb-4c7d-8c0e-84091b7e38b9",
   "metadata": {},
   "outputs": [
    {
     "data": {
      "text/html": [
       "<pre style=\"white-space:pre;overflow-x:auto;line-height:normal;font-family:Menlo,'DejaVu Sans Mono',consolas,'Courier New',monospace\">╭───────────────────────────────────────── <span style=\"color: #008000; text-decoration-color: #008000; font-weight: bold\">Package Issues</span> ─────────────────────────────────────────╮\n",
       "│                    ╷                                                           ╷                 │\n",
       "│  <span style=\"font-weight: bold\"> Package          </span>│<span style=\"font-weight: bold\"> Issue                                                     </span>│<span style=\"font-weight: bold\"> Risk Level    </span>  │\n",
       "│ ╶──────────────────┼───────────────────────────────────────────────────────────┼───────────────╴ │\n",
       "│   libgfortran5     │ 11.3.0 has no install candidate for linux-64              │                 │\n",
       "│   libgfortran      │ 5.0.0 has no install candidate for linux-64               │                 │\n",
       "│   arrow-cpp        │ 9.0.0 has no install candidate for linux-64               │                 │\n",
       "│   openssl          │ Package ignored                                           │                 │\n",
       "│   libabseil        │ Package ignored                                           │                 │\n",
       "│                    ╵                                                           ╵                 │\n",
       "╰──────────────────────────────────────────────────────────────────────────────────────────────────╯\n",
       "</pre>\n"
      ],
      "text/plain": [
       "╭───────────────────────────────────────── \u001b[1;32mPackage Issues\u001b[0m ─────────────────────────────────────────╮\n",
       "│                    ╷                                                           ╷                 │\n",
       "│  \u001b[1m \u001b[0m\u001b[1mPackage         \u001b[0m\u001b[1m \u001b[0m│\u001b[1m \u001b[0m\u001b[1mIssue                                                    \u001b[0m\u001b[1m \u001b[0m│\u001b[1m \u001b[0m\u001b[1mRisk Level   \u001b[0m\u001b[1m \u001b[0m  │\n",
       "│ ╶──────────────────┼───────────────────────────────────────────────────────────┼───────────────╴ │\n",
       "│   libgfortran5     │ 11.3.0 has no install candidate for linux-64              │                 │\n",
       "│   libgfortran      │ 5.0.0 has no install candidate for linux-64               │                 │\n",
       "│   arrow-cpp        │ 9.0.0 has no install candidate for linux-64               │                 │\n",
       "│   openssl          │ Package ignored                                           │                 │\n",
       "│   libabseil        │ Package ignored                                           │                 │\n",
       "│                    ╵                                                           ╵                 │\n",
       "╰──────────────────────────────────────────────────────────────────────────────────────────────────╯\n"
      ]
     },
     "metadata": {},
     "output_type": "display_data"
    },
    {
     "data": {
      "application/vnd.jupyter.widget-view+json": {
       "model_id": "c0f15211250949f5961b8b581b7e9ea3",
       "version_major": 2,
       "version_minor": 0
      },
      "text/plain": [
       "Output()"
      ]
     },
     "metadata": {},
     "output_type": "display_data"
    },
    {
     "data": {
      "text/html": [
       "<pre style=\"white-space:pre;overflow-x:auto;line-height:normal;font-family:Menlo,'DejaVu Sans Mono',consolas,'Courier New',monospace\"></pre>\n"
      ],
      "text/plain": []
     },
     "metadata": {},
     "output_type": "display_data"
    }
   ],
   "source": [
    "cluster = coiled.Cluster(\n",
    "    name=\"client-run\",\n",
    "    n_workers=5,\n",
    "    package_sync=True,\n",
    ")"
   ]
  },
  {
   "cell_type": "markdown",
   "id": "71fc9a4c-dd9b-4628-ac3e-536b12a7b857",
   "metadata": {
    "tags": []
   },
   "source": [
    "## Connect Dask to Cluster"
   ]
  },
  {
   "cell_type": "code",
   "execution_count": 4,
   "id": "a6c000b0-f146-478a-a560-7d957f63814d",
   "metadata": {},
   "outputs": [],
   "source": [
    "from distributed import Client\n",
    "client = Client(cluster)"
   ]
  },
  {
   "cell_type": "code",
   "execution_count": null,
   "id": "04684a98-452c-4109-9b4a-417ed0fa729c",
   "metadata": {},
   "outputs": [],
   "source": []
  },
  {
   "cell_type": "code",
   "execution_count": null,
   "id": "bed4de0f-b591-4b61-b9d7-be2d58c77baf",
   "metadata": {},
   "outputs": [],
   "source": []
  },
  {
   "cell_type": "code",
   "execution_count": null,
   "id": "6afc81ef-572e-434d-bf6f-e8cdc95973e3",
   "metadata": {},
   "outputs": [],
   "source": []
  },
  {
   "cell_type": "code",
   "execution_count": null,
   "id": "1892f317-1063-4dab-ab54-44bb9eb9371b",
   "metadata": {},
   "outputs": [],
   "source": []
  },
  {
   "cell_type": "code",
   "execution_count": null,
   "id": "0a597bc9-d8db-4edf-ad30-4b8362d8ecbb",
   "metadata": {},
   "outputs": [],
   "source": []
  },
  {
   "cell_type": "code",
   "execution_count": null,
   "id": "4af8b6eb-a503-477a-a2f5-049d727bbb69",
   "metadata": {},
   "outputs": [],
   "source": []
  },
  {
   "cell_type": "code",
   "execution_count": null,
   "id": "178169a0-4091-41f9-a339-8f8105c7ede5",
   "metadata": {},
   "outputs": [],
   "source": []
  },
  {
   "cell_type": "code",
   "execution_count": null,
   "id": "4db33f56-d383-4eb6-9769-7553fe4fb545",
   "metadata": {},
   "outputs": [],
   "source": []
  },
  {
   "cell_type": "code",
   "execution_count": null,
   "id": "65313fd8-ece6-457b-a9c0-fe405246c772",
   "metadata": {},
   "outputs": [],
   "source": []
  },
  {
   "cell_type": "code",
   "execution_count": null,
   "id": "b7f8ae4c-843a-4814-8849-d9e2c9840250",
   "metadata": {},
   "outputs": [],
   "source": []
  },
  {
   "cell_type": "code",
   "execution_count": null,
   "id": "8b05bba7-b249-45e0-a454-ef369d7c54dd",
   "metadata": {},
   "outputs": [],
   "source": []
  },
  {
   "cell_type": "code",
   "execution_count": null,
   "id": "4664526c-dd71-4330-936f-02ea516e122c",
   "metadata": {},
   "outputs": [],
   "source": []
  },
  {
   "cell_type": "code",
   "execution_count": null,
   "id": "d31b09dc-af44-4594-a663-5580f27a42ae",
   "metadata": {},
   "outputs": [],
   "source": []
  },
  {
   "cell_type": "markdown",
   "id": "42b5be16-75f3-4c38-84fa-6932cf67f401",
   "metadata": {},
   "source": [
    "## 1. Do some Dask things"
   ]
  },
  {
   "cell_type": "code",
   "execution_count": 5,
   "id": "76cfcb27-0011-43ec-8ce9-6a03fd5441c4",
   "metadata": {},
   "outputs": [],
   "source": [
    "import dask.dataframe as dd"
   ]
  },
  {
   "cell_type": "code",
   "execution_count": 8,
   "id": "768cee71-fae8-452f-a794-c75cef171655",
   "metadata": {},
   "outputs": [
    {
     "data": {
      "text/html": [
       "<div>\n",
       "<style scoped>\n",
       "    .dataframe tbody tr th:only-of-type {\n",
       "        vertical-align: middle;\n",
       "    }\n",
       "\n",
       "    .dataframe tbody tr th {\n",
       "        vertical-align: top;\n",
       "    }\n",
       "\n",
       "    .dataframe thead th {\n",
       "        text-align: right;\n",
       "    }\n",
       "</style>\n",
       "<table border=\"1\" class=\"dataframe\">\n",
       "  <thead>\n",
       "    <tr style=\"text-align: right;\">\n",
       "      <th></th>\n",
       "      <th>user</th>\n",
       "      <th>repo</th>\n",
       "      <th>created_at</th>\n",
       "      <th>message</th>\n",
       "      <th>author</th>\n",
       "    </tr>\n",
       "  </thead>\n",
       "  <tbody>\n",
       "    <tr>\n",
       "      <th>0</th>\n",
       "      <td>soumith</td>\n",
       "      <td>soumith/fbcunn</td>\n",
       "      <td>2015-01-01T01:00:00Z</td>\n",
       "      <td>back to old structure, except lua files moved out</td>\n",
       "      <td>Soumith Chintala</td>\n",
       "    </tr>\n",
       "    <tr>\n",
       "      <th>1</th>\n",
       "      <td>soumith</td>\n",
       "      <td>soumith/fbcunn</td>\n",
       "      <td>2015-01-01T01:00:00Z</td>\n",
       "      <td>...</td>\n",
       "      <td>Soumith Chintala</td>\n",
       "    </tr>\n",
       "    <tr>\n",
       "      <th>2</th>\n",
       "      <td>soumith</td>\n",
       "      <td>soumith/fbcunn</td>\n",
       "      <td>2015-01-01T01:00:00Z</td>\n",
       "      <td>...</td>\n",
       "      <td>Soumith Chintala</td>\n",
       "    </tr>\n",
       "    <tr>\n",
       "      <th>3</th>\n",
       "      <td>soumith</td>\n",
       "      <td>soumith/fbcunn</td>\n",
       "      <td>2015-01-01T01:00:00Z</td>\n",
       "      <td>...</td>\n",
       "      <td>Soumith Chintala</td>\n",
       "    </tr>\n",
       "    <tr>\n",
       "      <th>4</th>\n",
       "      <td>radix</td>\n",
       "      <td>radix/effect</td>\n",
       "      <td>2015-01-01T01:00:00Z</td>\n",
       "      <td>put the auto-generated API docs in the reposit...</td>\n",
       "      <td>Christopher Armstrong</td>\n",
       "    </tr>\n",
       "  </tbody>\n",
       "</table>\n",
       "</div>"
      ],
      "text/plain": [
       "      user            repo            created_at  \\\n",
       "0  soumith  soumith/fbcunn  2015-01-01T01:00:00Z   \n",
       "1  soumith  soumith/fbcunn  2015-01-01T01:00:00Z   \n",
       "2  soumith  soumith/fbcunn  2015-01-01T01:00:00Z   \n",
       "3  soumith  soumith/fbcunn  2015-01-01T01:00:00Z   \n",
       "4    radix    radix/effect  2015-01-01T01:00:00Z   \n",
       "\n",
       "                                             message                 author  \n",
       "0  back to old structure, except lua files moved out       Soumith Chintala  \n",
       "1                                                ...       Soumith Chintala  \n",
       "2                                                ...       Soumith Chintala  \n",
       "3                                                ...       Soumith Chintala  \n",
       "4  put the auto-generated API docs in the reposit...  Christopher Armstrong  "
      ]
     },
     "execution_count": 8,
     "metadata": {},
     "output_type": "execute_result"
    }
   ],
   "source": [
    "ddf = dd.read_parquet(\"s3://coiled-datasets/github-archive/github-archive-2015.parq/\")\n",
    "ddf.head()"
   ]
  },
  {
   "cell_type": "code",
   "execution_count": 7,
   "id": "6195a402-43cb-4ab2-9f41-c127a6188f21",
   "metadata": {},
   "outputs": [
    {
     "data": {
      "text/html": [
       "<div>\n",
       "<style scoped>\n",
       "    .dataframe tbody tr th:only-of-type {\n",
       "        vertical-align: middle;\n",
       "    }\n",
       "\n",
       "    .dataframe tbody tr th {\n",
       "        vertical-align: top;\n",
       "    }\n",
       "\n",
       "    .dataframe thead th {\n",
       "        text-align: right;\n",
       "    }\n",
       "</style>\n",
       "<table border=\"1\" class=\"dataframe\">\n",
       "  <thead>\n",
       "    <tr style=\"text-align: right;\">\n",
       "      <th></th>\n",
       "      <th>repo</th>\n",
       "      <th>created_at</th>\n",
       "      <th>message</th>\n",
       "      <th>author</th>\n",
       "    </tr>\n",
       "    <tr>\n",
       "      <th>user</th>\n",
       "      <th></th>\n",
       "      <th></th>\n",
       "      <th></th>\n",
       "      <th></th>\n",
       "    </tr>\n",
       "  </thead>\n",
       "  <tbody>\n",
       "    <tr>\n",
       "      <th>1995parham</th>\n",
       "      <td>873</td>\n",
       "      <td>873</td>\n",
       "      <td>873</td>\n",
       "      <td>873</td>\n",
       "    </tr>\n",
       "    <tr>\n",
       "      <th>247321453</th>\n",
       "      <td>78</td>\n",
       "      <td>78</td>\n",
       "      <td>78</td>\n",
       "      <td>78</td>\n",
       "    </tr>\n",
       "    <tr>\n",
       "      <th>3DJakob</th>\n",
       "      <td>36</td>\n",
       "      <td>36</td>\n",
       "      <td>36</td>\n",
       "      <td>36</td>\n",
       "    </tr>\n",
       "    <tr>\n",
       "      <th>3ft9</th>\n",
       "      <td>13</td>\n",
       "      <td>13</td>\n",
       "      <td>13</td>\n",
       "      <td>13</td>\n",
       "    </tr>\n",
       "    <tr>\n",
       "      <th>501st-alpha1</th>\n",
       "      <td>451</td>\n",
       "      <td>451</td>\n",
       "      <td>451</td>\n",
       "      <td>451</td>\n",
       "    </tr>\n",
       "  </tbody>\n",
       "</table>\n",
       "</div>"
      ],
      "text/plain": [
       "              repo  created_at  message  author\n",
       "user                                           \n",
       "1995parham     873         873      873     873\n",
       "247321453       78          78       78      78\n",
       "3DJakob         36          36       36      36\n",
       "3ft9            13          13       13      13\n",
       "501st-alpha1   451         451      451     451"
      ]
     },
     "execution_count": 7,
     "metadata": {},
     "output_type": "execute_result"
    }
   ],
   "source": [
    "ddf.groupby('user').count().head()"
   ]
  },
  {
   "cell_type": "code",
   "execution_count": null,
   "id": "7d5f0511-c160-4f06-97d7-5a43e39d6300",
   "metadata": {},
   "outputs": [],
   "source": []
  },
  {
   "cell_type": "code",
   "execution_count": null,
   "id": "b1279316-cb2f-441c-ba7b-b33815173f65",
   "metadata": {},
   "outputs": [],
   "source": []
  },
  {
   "cell_type": "code",
   "execution_count": null,
   "id": "8421e6c3-75f8-4f40-b58d-8ed20bec9005",
   "metadata": {},
   "outputs": [],
   "source": []
  },
  {
   "cell_type": "code",
   "execution_count": null,
   "id": "c3fbf0f6-ffd8-455d-9870-55e6b4ed7b89",
   "metadata": {},
   "outputs": [],
   "source": []
  },
  {
   "cell_type": "code",
   "execution_count": null,
   "id": "eaee6b90-94c5-40dc-8c20-81cffb1250e1",
   "metadata": {},
   "outputs": [],
   "source": []
  },
  {
   "cell_type": "code",
   "execution_count": null,
   "id": "0a97d14f-ad69-4e5b-bc66-50b928a875a7",
   "metadata": {},
   "outputs": [],
   "source": []
  },
  {
   "cell_type": "code",
   "execution_count": null,
   "id": "5020297f-dd13-4c59-9919-845d5c9d73b2",
   "metadata": {},
   "outputs": [],
   "source": []
  },
  {
   "cell_type": "code",
   "execution_count": null,
   "id": "33b5c272-e12f-436f-bacc-3647e90438c4",
   "metadata": {},
   "outputs": [],
   "source": []
  },
  {
   "cell_type": "code",
   "execution_count": null,
   "id": "ab809fa9-b8e4-4216-9189-8bcb207d6e21",
   "metadata": {},
   "outputs": [],
   "source": []
  },
  {
   "cell_type": "code",
   "execution_count": null,
   "id": "fac1d38d-17dd-48bc-a87a-bdbaf8c96b3c",
   "metadata": {},
   "outputs": [],
   "source": []
  },
  {
   "cell_type": "code",
   "execution_count": null,
   "id": "de1d910b-81cf-47de-beeb-985f95a4618c",
   "metadata": {},
   "outputs": [],
   "source": []
  },
  {
   "cell_type": "code",
   "execution_count": null,
   "id": "61350b10-52f1-4a4f-aaa2-fbeffcf308ea",
   "metadata": {},
   "outputs": [],
   "source": []
  },
  {
   "cell_type": "code",
   "execution_count": null,
   "id": "97e7fa43-3f1a-4416-85f6-9eab44445d25",
   "metadata": {},
   "outputs": [],
   "source": []
  },
  {
   "cell_type": "code",
   "execution_count": null,
   "id": "13edd978-a0e9-4e24-903f-05e8ffd06a8a",
   "metadata": {},
   "outputs": [],
   "source": []
  },
  {
   "cell_type": "code",
   "execution_count": null,
   "id": "eaed1164-a308-40e8-90f1-1334e16d9c26",
   "metadata": {},
   "outputs": [],
   "source": []
  },
  {
   "cell_type": "markdown",
   "id": "54845a1c-7544-4e71-a1ea-467f4ede0a43",
   "metadata": {},
   "source": [
    "## 2. Do some generic Python things"
   ]
  },
  {
   "cell_type": "code",
   "execution_count": null,
   "id": "647a7c83-fc06-46ef-82cd-92ab387874ed",
   "metadata": {},
   "outputs": [],
   "source": [
    "def create_txt_file(content):\n",
    "    file = open('myfile.txt', 'w+')\n",
    "    file.write(content)\n",
    "    return file"
   ]
  },
  {
   "cell_type": "code",
   "execution_count": null,
   "id": "29bc12c9-429d-4929-82a1-932f0c40bf25",
   "metadata": {},
   "outputs": [],
   "source": [
    "client.run(create_txt_file, \"Add some content to our file.\")"
   ]
  },
  {
   "cell_type": "code",
   "execution_count": null,
   "id": "d6da5e38-66b4-43b8-aced-7afdbb8edb47",
   "metadata": {},
   "outputs": [],
   "source": [
    "def read_file(filename):\n",
    "    file = open(filename, \"r\")\n",
    "    return file.read()"
   ]
  },
  {
   "cell_type": "code",
   "execution_count": null,
   "id": "19702254-969c-454c-ad8c-a8cd83e8cad7",
   "metadata": {},
   "outputs": [],
   "source": [
    "client.run(read_file, \"myfile.txt\")"
   ]
  },
  {
   "cell_type": "code",
   "execution_count": null,
   "id": "9e41613d-3255-488c-8051-6c32c18437c4",
   "metadata": {},
   "outputs": [],
   "source": []
  },
  {
   "cell_type": "code",
   "execution_count": null,
   "id": "900cad30-2bda-436e-a0e1-b06535e63655",
   "metadata": {},
   "outputs": [],
   "source": []
  },
  {
   "cell_type": "code",
   "execution_count": null,
   "id": "241eb0f8-89da-4145-87f2-4d760a3f1731",
   "metadata": {},
   "outputs": [],
   "source": []
  },
  {
   "cell_type": "code",
   "execution_count": null,
   "id": "d1e5cf07-2717-4cd8-91e5-31b462e3d2fd",
   "metadata": {},
   "outputs": [],
   "source": []
  },
  {
   "cell_type": "code",
   "execution_count": null,
   "id": "f28bfff1-6744-4051-a960-6a73773ea5e7",
   "metadata": {},
   "outputs": [],
   "source": []
  },
  {
   "cell_type": "code",
   "execution_count": null,
   "id": "5c71f00b-a59c-48df-a6d2-a476248c2912",
   "metadata": {},
   "outputs": [],
   "source": []
  },
  {
   "cell_type": "code",
   "execution_count": null,
   "id": "cb57b8fa-c3a9-4889-becd-b59a9c880f55",
   "metadata": {},
   "outputs": [],
   "source": []
  },
  {
   "cell_type": "code",
   "execution_count": null,
   "id": "69715805-5cd6-4112-a456-bd024cb482a9",
   "metadata": {},
   "outputs": [],
   "source": []
  },
  {
   "cell_type": "code",
   "execution_count": null,
   "id": "a8dd1a48-dbbd-4685-b61d-90311ed44a22",
   "metadata": {},
   "outputs": [],
   "source": []
  },
  {
   "cell_type": "code",
   "execution_count": null,
   "id": "7153961d-ccd5-442a-beca-1f0d6100f4ab",
   "metadata": {},
   "outputs": [],
   "source": []
  },
  {
   "cell_type": "code",
   "execution_count": null,
   "id": "2142f745-ea20-4a28-8efd-15fb810a4ec7",
   "metadata": {},
   "outputs": [],
   "source": []
  },
  {
   "cell_type": "code",
   "execution_count": null,
   "id": "b276e2fe-02e4-44ea-97ac-efd7b0781d65",
   "metadata": {},
   "outputs": [],
   "source": []
  },
  {
   "cell_type": "code",
   "execution_count": null,
   "id": "ac5f5376-e9db-4067-b24e-908f072ed8f7",
   "metadata": {},
   "outputs": [],
   "source": []
  },
  {
   "cell_type": "code",
   "execution_count": null,
   "id": "fe31a17e-bf89-4a35-82a7-a79a70cf6cd6",
   "metadata": {},
   "outputs": [],
   "source": []
  },
  {
   "cell_type": "code",
   "execution_count": null,
   "id": "ec25fe73-e1c3-41dd-9209-0a1d565dee25",
   "metadata": {},
   "outputs": [],
   "source": []
  },
  {
   "cell_type": "markdown",
   "id": "f4f1775e-4524-41e5-b874-954c2406bc3a",
   "metadata": {},
   "source": [
    "## 3. Do some system-level things"
   ]
  },
  {
   "cell_type": "code",
   "execution_count": null,
   "id": "57bf45ef-c762-4d8d-be95-b6b9c69dab72",
   "metadata": {},
   "outputs": [],
   "source": [
    "import os"
   ]
  },
  {
   "cell_type": "code",
   "execution_count": null,
   "id": "38e340b7-cd5e-461c-9dba-441be3faa7c3",
   "metadata": {},
   "outputs": [],
   "source": [
    "client.run(os.getpid)"
   ]
  },
  {
   "cell_type": "code",
   "execution_count": null,
   "id": "9c7e484b-72bc-4363-8ef5-6f0428fd670f",
   "metadata": {},
   "outputs": [],
   "source": [
    "client.run(os.getpid, workers=[])"
   ]
  },
  {
   "cell_type": "code",
   "execution_count": null,
   "id": "18120d98-64ae-4ea9-bade-261f2122e857",
   "metadata": {},
   "outputs": [],
   "source": []
  },
  {
   "cell_type": "code",
   "execution_count": null,
   "id": "cd368339-642a-487e-bab1-0839f7446c35",
   "metadata": {},
   "outputs": [],
   "source": []
  },
  {
   "cell_type": "code",
   "execution_count": null,
   "id": "09dfa0f7-0e6d-4eb0-88bb-8e779319a09f",
   "metadata": {},
   "outputs": [],
   "source": []
  },
  {
   "cell_type": "code",
   "execution_count": null,
   "id": "d57d34db-aef3-4261-9b1b-8be7678f150f",
   "metadata": {},
   "outputs": [],
   "source": []
  },
  {
   "cell_type": "code",
   "execution_count": null,
   "id": "b08d2894-7fd0-4659-a3b3-2652c69c3d49",
   "metadata": {},
   "outputs": [],
   "source": []
  },
  {
   "cell_type": "code",
   "execution_count": null,
   "id": "486df6e5-bd1d-465b-9b3c-0bc0dbf47f38",
   "metadata": {},
   "outputs": [],
   "source": []
  },
  {
   "cell_type": "code",
   "execution_count": null,
   "id": "a622e494-f173-4bc3-854f-c1b438c78d0a",
   "metadata": {},
   "outputs": [],
   "source": []
  },
  {
   "cell_type": "code",
   "execution_count": null,
   "id": "6fb165de-e500-4bf8-99b1-ebb1e19d3d67",
   "metadata": {},
   "outputs": [],
   "source": []
  },
  {
   "cell_type": "code",
   "execution_count": null,
   "id": "ed0896e7-d6b1-4a35-bb97-e55f1e5bf981",
   "metadata": {},
   "outputs": [],
   "source": []
  },
  {
   "cell_type": "code",
   "execution_count": null,
   "id": "e9772f75-5b0f-40e9-ac54-25a74f011608",
   "metadata": {},
   "outputs": [],
   "source": []
  },
  {
   "cell_type": "code",
   "execution_count": null,
   "id": "af0cd46a-d1bf-4550-9769-db74142dff66",
   "metadata": {},
   "outputs": [],
   "source": []
  },
  {
   "cell_type": "code",
   "execution_count": null,
   "id": "065e578a-bc56-4a9a-b831-7d0835dee538",
   "metadata": {},
   "outputs": [],
   "source": []
  },
  {
   "cell_type": "code",
   "execution_count": null,
   "id": "ec78f35b-c7df-426c-9ccb-9eae4837b269",
   "metadata": {},
   "outputs": [],
   "source": []
  },
  {
   "cell_type": "code",
   "execution_count": null,
   "id": "e04a77fa-340a-4e07-9339-e3baa7b67ff5",
   "metadata": {},
   "outputs": [],
   "source": []
  },
  {
   "cell_type": "code",
   "execution_count": null,
   "id": "2148486c-1855-4e9a-9a64-b3cfc78f1504",
   "metadata": {},
   "outputs": [],
   "source": []
  },
  {
   "cell_type": "code",
   "execution_count": null,
   "id": "9e063c12-2683-4def-99e1-aa4d957c61b4",
   "metadata": {},
   "outputs": [],
   "source": []
  },
  {
   "cell_type": "code",
   "execution_count": null,
   "id": "de826c83-3d48-4546-b01a-487d3e1a2141",
   "metadata": {},
   "outputs": [],
   "source": []
  },
  {
   "cell_type": "markdown",
   "id": "405f61a9-f6fd-4324-987a-4996310d3085",
   "metadata": {},
   "source": [
    "## 4. Do some Dask debugging"
   ]
  },
  {
   "cell_type": "code",
   "execution_count": null,
   "id": "b26190ed-46eb-4403-96f9-567ccc022bf6",
   "metadata": {},
   "outputs": [],
   "source": [
    "# get status of each worker in your cluster\n",
    "def get_status(dask_worker):\n",
    "    return dask_worker.status"
   ]
  },
  {
   "cell_type": "code",
   "execution_count": null,
   "id": "0eee8fc3-4cc8-42bd-ac92-883d026d16af",
   "metadata": {},
   "outputs": [],
   "source": [
    "client.run(get_status)"
   ]
  },
  {
   "cell_type": "code",
   "execution_count": null,
   "id": "9a7e63bb-9507-4c69-bb7a-2fa57801a662",
   "metadata": {},
   "outputs": [],
   "source": []
  },
  {
   "cell_type": "code",
   "execution_count": null,
   "id": "41453176-c1d3-443d-8ff9-6091df2bb14e",
   "metadata": {},
   "outputs": [],
   "source": [
    "# find where each worker is spilling data to disk\n",
    "client.run(lambda dask_worker: dask_worker.local_directory)"
   ]
  },
  {
   "cell_type": "code",
   "execution_count": null,
   "id": "a1634bae-f2db-4386-98e8-558dbeba4b0b",
   "metadata": {},
   "outputs": [],
   "source": []
  },
  {
   "cell_type": "code",
   "execution_count": null,
   "id": "572ceba8-3e5d-4465-a6fb-60f39203eaf1",
   "metadata": {},
   "outputs": [],
   "source": []
  },
  {
   "cell_type": "code",
   "execution_count": null,
   "id": "5e0a3594-2654-4890-8477-cb9a76108090",
   "metadata": {},
   "outputs": [],
   "source": []
  },
  {
   "cell_type": "code",
   "execution_count": null,
   "id": "2cd5371f-ab26-4a10-bf3d-24ba7a83af01",
   "metadata": {},
   "outputs": [],
   "source": []
  },
  {
   "cell_type": "code",
   "execution_count": null,
   "id": "0b496883-387d-4915-9528-49213781924c",
   "metadata": {},
   "outputs": [],
   "source": []
  },
  {
   "cell_type": "code",
   "execution_count": null,
   "id": "7f620b61-9772-40f8-9c13-af5b58dc2033",
   "metadata": {},
   "outputs": [],
   "source": []
  },
  {
   "cell_type": "code",
   "execution_count": null,
   "id": "e13107fa-d893-43d0-9425-c2161774cec2",
   "metadata": {},
   "outputs": [],
   "source": []
  },
  {
   "cell_type": "code",
   "execution_count": null,
   "id": "c05df0a7-f014-463b-90ce-cf6891580f2c",
   "metadata": {},
   "outputs": [],
   "source": []
  },
  {
   "cell_type": "code",
   "execution_count": null,
   "id": "14e231dd-a950-4296-8584-e98794475d92",
   "metadata": {},
   "outputs": [],
   "source": []
  },
  {
   "cell_type": "code",
   "execution_count": null,
   "id": "ad3955f9-2d6c-49ea-bd32-531f1fb5b53b",
   "metadata": {},
   "outputs": [],
   "source": []
  },
  {
   "cell_type": "code",
   "execution_count": null,
   "id": "cdce3b69-d5f7-49a5-99f6-16927e9a83bf",
   "metadata": {},
   "outputs": [],
   "source": []
  },
  {
   "cell_type": "code",
   "execution_count": null,
   "id": "dff7593a-9c8b-4c85-8827-845645eb6f23",
   "metadata": {},
   "outputs": [],
   "source": []
  },
  {
   "cell_type": "code",
   "execution_count": null,
   "id": "a2740863-e93d-4db9-a76a-ad4c509dcb42",
   "metadata": {},
   "outputs": [],
   "source": []
  },
  {
   "cell_type": "code",
   "execution_count": null,
   "id": "16ffcffb-2d05-4d3e-bb10-2561dfb1f8d2",
   "metadata": {},
   "outputs": [],
   "source": []
  },
  {
   "cell_type": "markdown",
   "id": "68ce31c0-dcc4-4744-8355-f9e17f2942d4",
   "metadata": {},
   "source": [
    "## Other `client.` functions you might find useful\n",
    "The flexibility doesn't end with `client.run()`\n",
    "\n",
    "Consider taking a look at:\n",
    "\n",
    "`client.submit()`: to submit a function to Dask scheduler to be run asynchronously\n",
    "\n",
    "`client.map()`: to map a function onto multiple objects\n",
    "\n",
    "`client.scatter()`: to scatter data from local client into distributed memory\n",
    "\n",
    "`client.upload_file`: to upload a single file or package (.zip, .egg, . ) to all workers"
   ]
  },
  {
   "cell_type": "code",
   "execution_count": null,
   "id": "e59acab3-a64f-4a21-917b-054d44b7a983",
   "metadata": {},
   "outputs": [],
   "source": [
    "Docmentation."
   ]
  },
  {
   "cell_type": "code",
   "execution_count": null,
   "id": "09559b26-8df0-43e1-b94e-77a4397fca3b",
   "metadata": {},
   "outputs": [],
   "source": []
  },
  {
   "cell_type": "code",
   "execution_count": null,
   "id": "dd1270b8-25c5-47ce-979d-a65e89e9695b",
   "metadata": {},
   "outputs": [],
   "source": []
  }
 ],
 "metadata": {
  "kernelspec": {
   "display_name": "Python [conda env:coiled] *",
   "language": "python",
   "name": "conda-env-coiled-py"
  },
  "language_info": {
   "codemirror_mode": {
    "name": "ipython",
    "version": 3
   },
   "file_extension": ".py",
   "mimetype": "text/x-python",
   "name": "python",
   "nbconvert_exporter": "python",
   "pygments_lexer": "ipython3",
   "version": "3.10.6"
  }
 },
 "nbformat": 4,
 "nbformat_minor": 5
}
