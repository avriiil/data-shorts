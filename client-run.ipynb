{
 "cells": [
  {
   "cell_type": "markdown",
   "id": "7bf5cf54-ac27-47b4-ac28-316723ae43c5",
   "metadata": {},
   "source": [
    "# Flexibile Distributed Computing with `client.run()`"
   ]
  },
  {
   "cell_type": "code",
   "execution_count": null,
   "id": "e85a88c7-b808-49db-a126-370a12eb48e3",
   "metadata": {},
   "outputs": [],
   "source": []
  },
  {
   "cell_type": "markdown",
   "id": "d38fe48f-1baf-4fcc-817e-325b6cb69551",
   "metadata": {},
   "source": [
    "## Launch Cloud Computing Resources"
   ]
  },
  {
   "cell_type": "code",
   "execution_count": 1,
   "id": "030282b7-717f-4aaf-befe-32e93814b7d7",
   "metadata": {},
   "outputs": [],
   "source": [
    "import coiled"
   ]
  },
  {
   "cell_type": "code",
   "execution_count": 2,
   "id": "513ba8a4-dceb-4c7d-8c0e-84091b7e38b9",
   "metadata": {},
   "outputs": [
    {
     "data": {
      "text/html": [
       "<pre style=\"white-space:pre;overflow-x:auto;line-height:normal;font-family:Menlo,'DejaVu Sans Mono',consolas,'Courier New',monospace\">╭───────────────────────────────────────── <span style=\"color: #008000; text-decoration-color: #008000; font-weight: bold\">Package Issues</span> ─────────────────────────────────────────╮\n",
       "│                      ╷                                                          ╷                │\n",
       "│  <span style=\"font-weight: bold\"> Package            </span>│<span style=\"font-weight: bold\"> Issue                                                    </span>│<span style=\"font-weight: bold\"> Risk Level   </span>  │\n",
       "│ ╶────────────────────┼──────────────────────────────────────────────────────────┼──────────────╴ │\n",
       "│   libgfortran5       │ 11.3.0 has no install candidate for linux-64             │                │\n",
       "│   libgfortran        │ 5.0.0 has no install candidate for linux-64              │                │\n",
       "│   grpcio             │ 1.46.3 has no install candidate for linux-64             │                │\n",
       "│   grpc-cpp           │ 1.46.3 has no install candidate for linux-64             │                │\n",
       "│   arrow-cpp          │ 8.0.0 has no install candidate for linux-64              │                │\n",
       "│   openssl            │ Package ignored                                          │                │\n",
       "│   libabseil          │ Package ignored                                          │                │\n",
       "│   coiled-runtime     │ Package ignored                                          │                │\n",
       "│   abseil-cpp         │ Package ignored                                          │                │\n",
       "│                      ╵                                                          ╵                │\n",
       "╰──────────────────────────────────────────────────────────────────────────────────────────────────╯\n",
       "</pre>\n"
      ],
      "text/plain": [
       "╭───────────────────────────────────────── \u001b[1;32mPackage Issues\u001b[0m ─────────────────────────────────────────╮\n",
       "│                      ╷                                                          ╷                │\n",
       "│  \u001b[1m \u001b[0m\u001b[1mPackage           \u001b[0m\u001b[1m \u001b[0m│\u001b[1m \u001b[0m\u001b[1mIssue                                                   \u001b[0m\u001b[1m \u001b[0m│\u001b[1m \u001b[0m\u001b[1mRisk Level  \u001b[0m\u001b[1m \u001b[0m  │\n",
       "│ ╶────────────────────┼──────────────────────────────────────────────────────────┼──────────────╴ │\n",
       "│   libgfortran5       │ 11.3.0 has no install candidate for linux-64             │                │\n",
       "│   libgfortran        │ 5.0.0 has no install candidate for linux-64              │                │\n",
       "│   grpcio             │ 1.46.3 has no install candidate for linux-64             │                │\n",
       "│   grpc-cpp           │ 1.46.3 has no install candidate for linux-64             │                │\n",
       "│   arrow-cpp          │ 8.0.0 has no install candidate for linux-64              │                │\n",
       "│   openssl            │ Package ignored                                          │                │\n",
       "│   libabseil          │ Package ignored                                          │                │\n",
       "│   coiled-runtime     │ Package ignored                                          │                │\n",
       "│   abseil-cpp         │ Package ignored                                          │                │\n",
       "│                      ╵                                                          ╵                │\n",
       "╰──────────────────────────────────────────────────────────────────────────────────────────────────╯\n"
      ]
     },
     "metadata": {},
     "output_type": "display_data"
    },
    {
     "data": {
      "application/vnd.jupyter.widget-view+json": {
       "model_id": "a726cf2977cf42a9a2d1102894ee1b0c",
       "version_major": 2,
       "version_minor": 0
      },
      "text/plain": [
       "Output()"
      ]
     },
     "metadata": {},
     "output_type": "display_data"
    },
    {
     "data": {
      "text/html": [
       "<pre style=\"white-space:pre;overflow-x:auto;line-height:normal;font-family:Menlo,'DejaVu Sans Mono',consolas,'Courier New',monospace\"></pre>\n"
      ],
      "text/plain": []
     },
     "metadata": {},
     "output_type": "display_data"
    }
   ],
   "source": [
    "cluster = coiled.Cluster(\n",
    "    name=\"client-run\",\n",
    "    n_workers=5,\n",
    "    package_sync=True,\n",
    ")"
   ]
  },
  {
   "cell_type": "code",
   "execution_count": 3,
   "id": "a6c000b0-f146-478a-a560-7d957f63814d",
   "metadata": {},
   "outputs": [
    {
     "name": "stderr",
     "output_type": "stream",
     "text": [
      "/Users/rpelgrim/mambaforge/envs/crt/lib/python3.10/site-packages/distributed/client.py:1274: VersionMismatchWarning: Mismatched versions found\n",
      "\n",
      "+---------+--------+-----------+---------+\n",
      "| Package | client | scheduler | workers |\n",
      "+---------+--------+-----------+---------+\n",
      "| lz4     | 4.0.0  | 4.0.2     | 4.0.2   |\n",
      "+---------+--------+-----------+---------+\n",
      "  warnings.warn(version_module.VersionMismatchWarning(msg[0][\"warning\"]))\n"
     ]
    }
   ],
   "source": [
    "from distributed import Client\n",
    "client = Client(cluster)"
   ]
  },
  {
   "cell_type": "code",
   "execution_count": null,
   "id": "d31b09dc-af44-4594-a663-5580f27a42ae",
   "metadata": {},
   "outputs": [],
   "source": []
  },
  {
   "cell_type": "markdown",
   "id": "42b5be16-75f3-4c38-84fa-6932cf67f401",
   "metadata": {},
   "source": [
    "## Do Some Dask Things"
   ]
  },
  {
   "cell_type": "code",
   "execution_count": 4,
   "id": "76cfcb27-0011-43ec-8ce9-6a03fd5441c4",
   "metadata": {},
   "outputs": [],
   "source": [
    "import dask.dataframe as dd"
   ]
  },
  {
   "cell_type": "code",
   "execution_count": 5,
   "id": "768cee71-fae8-452f-a794-c75cef171655",
   "metadata": {},
   "outputs": [],
   "source": [
    "ddf = dd.read_parquet(\"s3://coiled-datasets/github-archive/github-archive-2015.parq/\")"
   ]
  },
  {
   "cell_type": "code",
   "execution_count": null,
   "id": "6195a402-43cb-4ab2-9f41-c127a6188f21",
   "metadata": {},
   "outputs": [],
   "source": []
  },
  {
   "cell_type": "code",
   "execution_count": null,
   "id": "eaed1164-a308-40e8-90f1-1334e16d9c26",
   "metadata": {},
   "outputs": [],
   "source": []
  },
  {
   "cell_type": "markdown",
   "id": "54845a1c-7544-4e71-a1ea-467f4ede0a43",
   "metadata": {},
   "source": [
    "## Do Some Generic Python Things"
   ]
  },
  {
   "cell_type": "code",
   "execution_count": null,
   "id": "799db158-2d05-43ea-8305-674c4f288048",
   "metadata": {},
   "outputs": [],
   "source": []
  },
  {
   "cell_type": "code",
   "execution_count": null,
   "id": "ebeffd32-210e-42c7-93f3-b7a23e457c3d",
   "metadata": {},
   "outputs": [],
   "source": []
  },
  {
   "cell_type": "code",
   "execution_count": null,
   "id": "647a7c83-fc06-46ef-82cd-92ab387874ed",
   "metadata": {},
   "outputs": [],
   "source": []
  },
  {
   "cell_type": "markdown",
   "id": "f4f1775e-4524-41e5-b874-954c2406bc3a",
   "metadata": {},
   "source": [
    "## Do Some System Things"
   ]
  },
  {
   "cell_type": "code",
   "execution_count": null,
   "id": "41453176-c1d3-443d-8ff9-6091df2bb14e",
   "metadata": {},
   "outputs": [],
   "source": []
  },
  {
   "cell_type": "code",
   "execution_count": null,
   "id": "38e340b7-cd5e-461c-9dba-441be3faa7c3",
   "metadata": {},
   "outputs": [],
   "source": []
  },
  {
   "cell_type": "code",
   "execution_count": null,
   "id": "9e063c12-2683-4def-99e1-aa4d957c61b4",
   "metadata": {},
   "outputs": [],
   "source": []
  },
  {
   "cell_type": "code",
   "execution_count": null,
   "id": "ef3a0878-89de-488e-a1fc-93b2a5b9b0b2",
   "metadata": {},
   "outputs": [],
   "source": []
  }
 ],
 "metadata": {
  "kernelspec": {
   "display_name": "Python [conda env:crt] *",
   "language": "python",
   "name": "conda-env-crt-py"
  },
  "language_info": {
   "codemirror_mode": {
    "name": "ipython",
    "version": 3
   },
   "file_extension": ".py",
   "mimetype": "text/x-python",
   "name": "python",
   "nbconvert_exporter": "python",
   "pygments_lexer": "ipython3",
   "version": "3.10.6"
  }
 },
 "nbformat": 4,
 "nbformat_minor": 5
}
