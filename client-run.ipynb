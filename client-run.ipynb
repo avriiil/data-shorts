{
 "cells": [
  {
   "cell_type": "markdown",
   "id": "7bf5cf54-ac27-47b4-ac28-316723ae43c5",
   "metadata": {},
   "source": [
    "<img src=\"images/dask_horizontal.svg\" width=250 />\n",
    "\n",
    "# Flexibile Cloud Computing with `client.run()`"
   ]
  },
  {
   "cell_type": "markdown",
   "id": "b627c5e3-045c-4c41-ad27-55d10aad6ea1",
   "metadata": {},
   "source": [
    "Dask gives you a lot of flexibility. \n",
    "\n",
    "After pointing Dask to your remote cluster, any Dask code will automatically run on that cluster.\n",
    "\n",
    "But you're not restricted to running *only* Dask code on your cluster.You can also run custom Python code and system-level commands on your cluster.\n",
    "\n",
    "Let's take a look at the flexibility you can achieve with `client.run()`"
   ]
  },
  {
   "cell_type": "code",
   "execution_count": null,
   "id": "eb8942b0-9de3-41ce-bd2e-3a2e70b76534",
   "metadata": {},
   "outputs": [],
   "source": []
  },
  {
   "cell_type": "code",
   "execution_count": null,
   "id": "600120e4-a870-4034-9b59-19ae1f8021d8",
   "metadata": {},
   "outputs": [],
   "source": []
  },
  {
   "cell_type": "code",
   "execution_count": null,
   "id": "73688929-9bab-4ec5-9364-93e7514a3d3a",
   "metadata": {},
   "outputs": [],
   "source": []
  },
  {
   "cell_type": "code",
   "execution_count": null,
   "id": "fcceacd5-1c47-47d0-a17d-9745b5d94f43",
   "metadata": {},
   "outputs": [],
   "source": []
  },
  {
   "cell_type": "code",
   "execution_count": null,
   "id": "11aef17d-02e1-4313-b089-439000d582bc",
   "metadata": {},
   "outputs": [],
   "source": []
  },
  {
   "cell_type": "code",
   "execution_count": null,
   "id": "30a25081-af13-4e4b-8525-d0f25191e37d",
   "metadata": {},
   "outputs": [],
   "source": []
  },
  {
   "cell_type": "code",
   "execution_count": null,
   "id": "62cb615d-b1e9-4b59-b883-25a4bbec56d9",
   "metadata": {},
   "outputs": [],
   "source": []
  },
  {
   "cell_type": "code",
   "execution_count": null,
   "id": "e48c9831-fd62-4fbb-8c57-7cab0c9b295c",
   "metadata": {},
   "outputs": [],
   "source": []
  },
  {
   "cell_type": "code",
   "execution_count": null,
   "id": "2065c72c-8299-4b33-a510-04d5d19df14b",
   "metadata": {},
   "outputs": [],
   "source": []
  },
  {
   "cell_type": "code",
   "execution_count": null,
   "id": "c17c39c1-225a-4e6b-943b-1d65c0b5bbda",
   "metadata": {},
   "outputs": [],
   "source": []
  },
  {
   "cell_type": "code",
   "execution_count": null,
   "id": "df514b26-6c5e-429a-8b3f-e26966e94bd6",
   "metadata": {},
   "outputs": [],
   "source": []
  },
  {
   "cell_type": "code",
   "execution_count": null,
   "id": "0fde1114-b64c-45c8-91ed-2e42bc5442d2",
   "metadata": {},
   "outputs": [],
   "source": []
  },
  {
   "cell_type": "markdown",
   "id": "d38fe48f-1baf-4fcc-817e-325b6cb69551",
   "metadata": {
    "tags": []
   },
   "source": [
    "## Launch Cloud Computing Resources"
   ]
  },
  {
   "cell_type": "code",
   "execution_count": null,
   "id": "030282b7-717f-4aaf-befe-32e93814b7d7",
   "metadata": {},
   "outputs": [],
   "source": [
    "import coiled"
   ]
  },
  {
   "cell_type": "code",
   "execution_count": null,
   "id": "513ba8a4-dceb-4c7d-8c0e-84091b7e38b9",
   "metadata": {},
   "outputs": [],
   "source": [
    "cluster = coiled.Cluster(\n",
    "    name=\"client-run\",\n",
    "    n_workers=5,\n",
    "    package_sync=True,\n",
    ")"
   ]
  },
  {
   "cell_type": "markdown",
   "id": "71fc9a4c-dd9b-4628-ac3e-536b12a7b857",
   "metadata": {
    "tags": []
   },
   "source": [
    "## Connect Dask to Cluster"
   ]
  },
  {
   "cell_type": "code",
   "execution_count": 6,
   "id": "a6c000b0-f146-478a-a560-7d957f63814d",
   "metadata": {},
   "outputs": [],
   "source": [
    "from distributed import Client\n",
    "client = Client(cluster)"
   ]
  },
  {
   "cell_type": "code",
   "execution_count": null,
   "id": "b7f8ae4c-843a-4814-8849-d9e2c9840250",
   "metadata": {},
   "outputs": [],
   "source": []
  },
  {
   "cell_type": "code",
   "execution_count": null,
   "id": "8b05bba7-b249-45e0-a454-ef369d7c54dd",
   "metadata": {},
   "outputs": [],
   "source": []
  },
  {
   "cell_type": "code",
   "execution_count": null,
   "id": "4664526c-dd71-4330-936f-02ea516e122c",
   "metadata": {},
   "outputs": [],
   "source": []
  },
  {
   "cell_type": "code",
   "execution_count": null,
   "id": "d31b09dc-af44-4594-a663-5580f27a42ae",
   "metadata": {},
   "outputs": [],
   "source": []
  },
  {
   "cell_type": "markdown",
   "id": "42b5be16-75f3-4c38-84fa-6932cf67f401",
   "metadata": {},
   "source": [
    "## 1. Do some Dask things"
   ]
  },
  {
   "cell_type": "code",
   "execution_count": 19,
   "id": "76cfcb27-0011-43ec-8ce9-6a03fd5441c4",
   "metadata": {},
   "outputs": [],
   "source": [
    "import dask.dataframe as dd"
   ]
  },
  {
   "cell_type": "code",
   "execution_count": 20,
   "id": "768cee71-fae8-452f-a794-c75cef171655",
   "metadata": {},
   "outputs": [
    {
     "ename": "ValueError",
     "evalue": "No global client found and no address provided",
     "output_type": "error",
     "traceback": [
      "\u001b[0;31m---------------------------------------------------------------------------\u001b[0m",
      "\u001b[0;31mValueError\u001b[0m                                Traceback (most recent call last)",
      "Cell \u001b[0;32mIn [20], line 2\u001b[0m\n\u001b[1;32m      1\u001b[0m ddf \u001b[38;5;241m=\u001b[39m dd\u001b[38;5;241m.\u001b[39mread_parquet(\u001b[38;5;124m\"\u001b[39m\u001b[38;5;124ms3://coiled-datasets/github-archive/github-archive-2015.parq/\u001b[39m\u001b[38;5;124m\"\u001b[39m)\n\u001b[0;32m----> 2\u001b[0m \u001b[43mddf\u001b[49m\u001b[38;5;241;43m.\u001b[39;49m\u001b[43mhead\u001b[49m\u001b[43m(\u001b[49m\u001b[43m)\u001b[49m\n",
      "File \u001b[0;32m~/mambaforge/envs/coiled/lib/python3.10/site-packages/dask/dataframe/core.py:1265\u001b[0m, in \u001b[0;36m_Frame.head\u001b[0;34m(self, n, npartitions, compute)\u001b[0m\n\u001b[1;32m   1263\u001b[0m \u001b[38;5;66;03m# No need to warn if we're already looking at all partitions\u001b[39;00m\n\u001b[1;32m   1264\u001b[0m safe \u001b[38;5;241m=\u001b[39m npartitions \u001b[38;5;241m!=\u001b[39m \u001b[38;5;28mself\u001b[39m\u001b[38;5;241m.\u001b[39mnpartitions\n\u001b[0;32m-> 1265\u001b[0m \u001b[38;5;28;01mreturn\u001b[39;00m \u001b[38;5;28;43mself\u001b[39;49m\u001b[38;5;241;43m.\u001b[39;49m\u001b[43m_head\u001b[49m\u001b[43m(\u001b[49m\u001b[43mn\u001b[49m\u001b[38;5;241;43m=\u001b[39;49m\u001b[43mn\u001b[49m\u001b[43m,\u001b[49m\u001b[43m \u001b[49m\u001b[43mnpartitions\u001b[49m\u001b[38;5;241;43m=\u001b[39;49m\u001b[43mnpartitions\u001b[49m\u001b[43m,\u001b[49m\u001b[43m \u001b[49m\u001b[43mcompute\u001b[49m\u001b[38;5;241;43m=\u001b[39;49m\u001b[43mcompute\u001b[49m\u001b[43m,\u001b[49m\u001b[43m \u001b[49m\u001b[43msafe\u001b[49m\u001b[38;5;241;43m=\u001b[39;49m\u001b[43msafe\u001b[49m\u001b[43m)\u001b[49m\n",
      "File \u001b[0;32m~/mambaforge/envs/coiled/lib/python3.10/site-packages/dask/dataframe/core.py:1299\u001b[0m, in \u001b[0;36m_Frame._head\u001b[0;34m(self, n, npartitions, compute, safe)\u001b[0m\n\u001b[1;32m   1294\u001b[0m result \u001b[38;5;241m=\u001b[39m new_dd_object(\n\u001b[1;32m   1295\u001b[0m     graph, name, \u001b[38;5;28mself\u001b[39m\u001b[38;5;241m.\u001b[39m_meta, [\u001b[38;5;28mself\u001b[39m\u001b[38;5;241m.\u001b[39mdivisions[\u001b[38;5;241m0\u001b[39m], \u001b[38;5;28mself\u001b[39m\u001b[38;5;241m.\u001b[39mdivisions[npartitions]]\n\u001b[1;32m   1296\u001b[0m )\n\u001b[1;32m   1298\u001b[0m \u001b[38;5;28;01mif\u001b[39;00m compute:\n\u001b[0;32m-> 1299\u001b[0m     result \u001b[38;5;241m=\u001b[39m \u001b[43mresult\u001b[49m\u001b[38;5;241;43m.\u001b[39;49m\u001b[43mcompute\u001b[49m\u001b[43m(\u001b[49m\u001b[43m)\u001b[49m\n\u001b[1;32m   1300\u001b[0m \u001b[38;5;28;01mreturn\u001b[39;00m result\n",
      "File \u001b[0;32m~/mambaforge/envs/coiled/lib/python3.10/site-packages/dask/base.py:315\u001b[0m, in \u001b[0;36mDaskMethodsMixin.compute\u001b[0;34m(self, **kwargs)\u001b[0m\n\u001b[1;32m    291\u001b[0m \u001b[38;5;28;01mdef\u001b[39;00m \u001b[38;5;21mcompute\u001b[39m(\u001b[38;5;28mself\u001b[39m, \u001b[38;5;241m*\u001b[39m\u001b[38;5;241m*\u001b[39mkwargs):\n\u001b[1;32m    292\u001b[0m     \u001b[38;5;124;03m\"\"\"Compute this dask collection\u001b[39;00m\n\u001b[1;32m    293\u001b[0m \n\u001b[1;32m    294\u001b[0m \u001b[38;5;124;03m    This turns a lazy Dask collection into its in-memory equivalent.\u001b[39;00m\n\u001b[0;32m   (...)\u001b[0m\n\u001b[1;32m    313\u001b[0m \u001b[38;5;124;03m    dask.base.compute\u001b[39;00m\n\u001b[1;32m    314\u001b[0m \u001b[38;5;124;03m    \"\"\"\u001b[39;00m\n\u001b[0;32m--> 315\u001b[0m     (result,) \u001b[38;5;241m=\u001b[39m \u001b[43mcompute\u001b[49m\u001b[43m(\u001b[49m\u001b[38;5;28;43mself\u001b[39;49m\u001b[43m,\u001b[49m\u001b[43m \u001b[49m\u001b[43mtraverse\u001b[49m\u001b[38;5;241;43m=\u001b[39;49m\u001b[38;5;28;43;01mFalse\u001b[39;49;00m\u001b[43m,\u001b[49m\u001b[43m \u001b[49m\u001b[38;5;241;43m*\u001b[39;49m\u001b[38;5;241;43m*\u001b[39;49m\u001b[43mkwargs\u001b[49m\u001b[43m)\u001b[49m\n\u001b[1;32m    316\u001b[0m     \u001b[38;5;28;01mreturn\u001b[39;00m result\n",
      "File \u001b[0;32m~/mambaforge/envs/coiled/lib/python3.10/site-packages/dask/base.py:588\u001b[0m, in \u001b[0;36mcompute\u001b[0;34m(traverse, optimize_graph, scheduler, get, *args, **kwargs)\u001b[0m\n\u001b[1;32m    585\u001b[0m \u001b[38;5;28;01mif\u001b[39;00m \u001b[38;5;129;01mnot\u001b[39;00m collections:\n\u001b[1;32m    586\u001b[0m     \u001b[38;5;28;01mreturn\u001b[39;00m args\n\u001b[0;32m--> 588\u001b[0m schedule \u001b[38;5;241m=\u001b[39m \u001b[43mget_scheduler\u001b[49m\u001b[43m(\u001b[49m\n\u001b[1;32m    589\u001b[0m \u001b[43m    \u001b[49m\u001b[43mscheduler\u001b[49m\u001b[38;5;241;43m=\u001b[39;49m\u001b[43mscheduler\u001b[49m\u001b[43m,\u001b[49m\n\u001b[1;32m    590\u001b[0m \u001b[43m    \u001b[49m\u001b[43mcollections\u001b[49m\u001b[38;5;241;43m=\u001b[39;49m\u001b[43mcollections\u001b[49m\u001b[43m,\u001b[49m\n\u001b[1;32m    591\u001b[0m \u001b[43m    \u001b[49m\u001b[43mget\u001b[49m\u001b[38;5;241;43m=\u001b[39;49m\u001b[43mget\u001b[49m\u001b[43m,\u001b[49m\n\u001b[1;32m    592\u001b[0m \u001b[43m\u001b[49m\u001b[43m)\u001b[49m\n\u001b[1;32m    594\u001b[0m dsk \u001b[38;5;241m=\u001b[39m collections_to_dsk(collections, optimize_graph, \u001b[38;5;241m*\u001b[39m\u001b[38;5;241m*\u001b[39mkwargs)\n\u001b[1;32m    595\u001b[0m keys, postcomputes \u001b[38;5;241m=\u001b[39m [], []\n",
      "File \u001b[0;32m~/mambaforge/envs/coiled/lib/python3.10/site-packages/dask/base.py:1395\u001b[0m, in \u001b[0;36mget_scheduler\u001b[0;34m(get, scheduler, collections, cls)\u001b[0m\n\u001b[1;32m   1391\u001b[0m     \u001b[38;5;66;03m# else:  # try to connect to remote scheduler with this name\u001b[39;00m\n\u001b[1;32m   1392\u001b[0m     \u001b[38;5;66;03m#     return get_client(scheduler).get\u001b[39;00m\n\u001b[1;32m   1394\u001b[0m \u001b[38;5;28;01mif\u001b[39;00m config\u001b[38;5;241m.\u001b[39mget(\u001b[38;5;124m\"\u001b[39m\u001b[38;5;124mscheduler\u001b[39m\u001b[38;5;124m\"\u001b[39m, \u001b[38;5;28;01mNone\u001b[39;00m):\n\u001b[0;32m-> 1395\u001b[0m     \u001b[38;5;28;01mreturn\u001b[39;00m \u001b[43mget_scheduler\u001b[49m\u001b[43m(\u001b[49m\u001b[43mscheduler\u001b[49m\u001b[38;5;241;43m=\u001b[39;49m\u001b[43mconfig\u001b[49m\u001b[38;5;241;43m.\u001b[39;49m\u001b[43mget\u001b[49m\u001b[43m(\u001b[49m\u001b[38;5;124;43m\"\u001b[39;49m\u001b[38;5;124;43mscheduler\u001b[39;49m\u001b[38;5;124;43m\"\u001b[39;49m\u001b[43m,\u001b[49m\u001b[43m \u001b[49m\u001b[38;5;28;43;01mNone\u001b[39;49;00m\u001b[43m)\u001b[49m\u001b[43m)\u001b[49m\n\u001b[1;32m   1397\u001b[0m \u001b[38;5;28;01mif\u001b[39;00m config\u001b[38;5;241m.\u001b[39mget(\u001b[38;5;124m\"\u001b[39m\u001b[38;5;124mget\u001b[39m\u001b[38;5;124m\"\u001b[39m, \u001b[38;5;28;01mNone\u001b[39;00m):\n\u001b[1;32m   1398\u001b[0m     \u001b[38;5;28;01mraise\u001b[39;00m \u001b[38;5;167;01mValueError\u001b[39;00m(get_err_msg)\n",
      "File \u001b[0;32m~/mambaforge/envs/coiled/lib/python3.10/site-packages/dask/base.py:1375\u001b[0m, in \u001b[0;36mget_scheduler\u001b[0;34m(get, scheduler, collections, cls)\u001b[0m\n\u001b[1;32m   1372\u001b[0m \u001b[38;5;28;01melif\u001b[39;00m scheduler \u001b[38;5;129;01min\u001b[39;00m (\u001b[38;5;124m\"\u001b[39m\u001b[38;5;124mdask.distributed\u001b[39m\u001b[38;5;124m\"\u001b[39m, \u001b[38;5;124m\"\u001b[39m\u001b[38;5;124mdistributed\u001b[39m\u001b[38;5;124m\"\u001b[39m):\n\u001b[1;32m   1373\u001b[0m     \u001b[38;5;28;01mfrom\u001b[39;00m \u001b[38;5;21;01mdistributed\u001b[39;00m\u001b[38;5;21;01m.\u001b[39;00m\u001b[38;5;21;01mworker\u001b[39;00m \u001b[38;5;28;01mimport\u001b[39;00m get_client\n\u001b[0;32m-> 1375\u001b[0m     \u001b[38;5;28;01mreturn\u001b[39;00m \u001b[43mget_client\u001b[49m\u001b[43m(\u001b[49m\u001b[43m)\u001b[49m\u001b[38;5;241m.\u001b[39mget\n\u001b[1;32m   1376\u001b[0m \u001b[38;5;28;01melse\u001b[39;00m:\n\u001b[1;32m   1377\u001b[0m     \u001b[38;5;28;01mraise\u001b[39;00m \u001b[38;5;167;01mValueError\u001b[39;00m(\n\u001b[1;32m   1378\u001b[0m         \u001b[38;5;124m\"\u001b[39m\u001b[38;5;124mExpected one of [distributed, \u001b[39m\u001b[38;5;132;01m%s\u001b[39;00m\u001b[38;5;124m]\u001b[39m\u001b[38;5;124m\"\u001b[39m\n\u001b[1;32m   1379\u001b[0m         \u001b[38;5;241m%\u001b[39m \u001b[38;5;124m\"\u001b[39m\u001b[38;5;124m, \u001b[39m\u001b[38;5;124m\"\u001b[39m\u001b[38;5;241m.\u001b[39mjoin(\u001b[38;5;28msorted\u001b[39m(named_schedulers))\n\u001b[1;32m   1380\u001b[0m     )\n",
      "File \u001b[0;32m~/mambaforge/envs/coiled/lib/python3.10/site-packages/distributed/worker.py:2738\u001b[0m, in \u001b[0;36mget_client\u001b[0;34m(address, timeout, resolve_address)\u001b[0m\n\u001b[1;32m   2736\u001b[0m     \u001b[38;5;28;01mreturn\u001b[39;00m Client(address, timeout\u001b[38;5;241m=\u001b[39mtimeout)\n\u001b[1;32m   2737\u001b[0m \u001b[38;5;28;01melse\u001b[39;00m:\n\u001b[0;32m-> 2738\u001b[0m     \u001b[38;5;28;01mraise\u001b[39;00m \u001b[38;5;167;01mValueError\u001b[39;00m(\u001b[38;5;124m\"\u001b[39m\u001b[38;5;124mNo global client found and no address provided\u001b[39m\u001b[38;5;124m\"\u001b[39m)\n",
      "\u001b[0;31mValueError\u001b[0m: No global client found and no address provided"
     ]
    }
   ],
   "source": [
    "ddf = dd.read_parquet(\"s3://coiled-datasets/github-archive/github-archive-2015.parq/\")\n",
    "ddf.head()"
   ]
  },
  {
   "cell_type": "code",
   "execution_count": null,
   "id": "6195a402-43cb-4ab2-9f41-c127a6188f21",
   "metadata": {},
   "outputs": [],
   "source": [
    "ddf.groupby('user').count().head()"
   ]
  },
  {
   "cell_type": "code",
   "execution_count": null,
   "id": "7d5f0511-c160-4f06-97d7-5a43e39d6300",
   "metadata": {},
   "outputs": [],
   "source": []
  },
  {
   "cell_type": "code",
   "execution_count": null,
   "id": "61350b10-52f1-4a4f-aaa2-fbeffcf308ea",
   "metadata": {},
   "outputs": [],
   "source": []
  },
  {
   "cell_type": "code",
   "execution_count": null,
   "id": "97e7fa43-3f1a-4416-85f6-9eab44445d25",
   "metadata": {},
   "outputs": [],
   "source": []
  },
  {
   "cell_type": "code",
   "execution_count": null,
   "id": "13edd978-a0e9-4e24-903f-05e8ffd06a8a",
   "metadata": {},
   "outputs": [],
   "source": []
  },
  {
   "cell_type": "code",
   "execution_count": null,
   "id": "eaed1164-a308-40e8-90f1-1334e16d9c26",
   "metadata": {},
   "outputs": [],
   "source": []
  },
  {
   "cell_type": "markdown",
   "id": "54845a1c-7544-4e71-a1ea-467f4ede0a43",
   "metadata": {},
   "source": [
    "## 2. Do some generic Python things"
   ]
  },
  {
   "cell_type": "code",
   "execution_count": 9,
   "id": "647a7c83-fc06-46ef-82cd-92ab387874ed",
   "metadata": {},
   "outputs": [],
   "source": [
    "def create_txt_file(content):\n",
    "    file = open('myfile.txt', 'w+')\n",
    "    file.write(content)\n",
    "    return file"
   ]
  },
  {
   "cell_type": "code",
   "execution_count": 10,
   "id": "29bc12c9-429d-4929-82a1-932f0c40bf25",
   "metadata": {},
   "outputs": [
    {
     "data": {
      "text/plain": [
       "{'tls://10.0.15.133:39945': <_io.StringIO at 0x2c1c75bd0>,\n",
       " 'tls://10.0.6.121:44257': <_io.StringIO at 0x1323b1cf0>,\n",
       " 'tls://10.0.7.27:41709': <_io.StringIO at 0x1323b1e10>,\n",
       " 'tls://10.0.7.47:38287': <_io.StringIO at 0x1323b1360>,\n",
       " 'tls://10.0.8.170:39291': <_io.StringIO at 0x1323b0dc0>}"
      ]
     },
     "execution_count": 10,
     "metadata": {},
     "output_type": "execute_result"
    }
   ],
   "source": [
    "client.run(create_txt_file, \"Add some content to our file.\")"
   ]
  },
  {
   "cell_type": "code",
   "execution_count": 11,
   "id": "d6da5e38-66b4-43b8-aced-7afdbb8edb47",
   "metadata": {},
   "outputs": [],
   "source": [
    "def read_file(filename):\n",
    "    file = open(filename, \"r\")\n",
    "    return file.read()"
   ]
  },
  {
   "cell_type": "code",
   "execution_count": 12,
   "id": "19702254-969c-454c-ad8c-a8cd83e8cad7",
   "metadata": {},
   "outputs": [
    {
     "data": {
      "text/plain": [
       "{'tls://10.0.15.133:39945': 'Add some content to our file.',\n",
       " 'tls://10.0.6.121:44257': 'Add some content to our file.',\n",
       " 'tls://10.0.7.27:41709': 'Add some content to our file.',\n",
       " 'tls://10.0.7.47:38287': 'Add some content to our file.',\n",
       " 'tls://10.0.8.170:39291': 'Add some content to our file.'}"
      ]
     },
     "execution_count": 12,
     "metadata": {},
     "output_type": "execute_result"
    }
   ],
   "source": [
    "client.run(read_file, \"myfile.txt\")"
   ]
  },
  {
   "cell_type": "code",
   "execution_count": null,
   "id": "9e41613d-3255-488c-8051-6c32c18437c4",
   "metadata": {},
   "outputs": [],
   "source": []
  },
  {
   "cell_type": "code",
   "execution_count": null,
   "id": "900cad30-2bda-436e-a0e1-b06535e63655",
   "metadata": {},
   "outputs": [],
   "source": []
  },
  {
   "cell_type": "code",
   "execution_count": null,
   "id": "241eb0f8-89da-4145-87f2-4d760a3f1731",
   "metadata": {},
   "outputs": [],
   "source": []
  },
  {
   "cell_type": "code",
   "execution_count": null,
   "id": "fe31a17e-bf89-4a35-82a7-a79a70cf6cd6",
   "metadata": {},
   "outputs": [],
   "source": []
  },
  {
   "cell_type": "code",
   "execution_count": null,
   "id": "ec25fe73-e1c3-41dd-9209-0a1d565dee25",
   "metadata": {},
   "outputs": [],
   "source": []
  },
  {
   "cell_type": "markdown",
   "id": "f4f1775e-4524-41e5-b874-954c2406bc3a",
   "metadata": {},
   "source": [
    "## 3. Do some system-level things"
   ]
  },
  {
   "cell_type": "code",
   "execution_count": 13,
   "id": "57bf45ef-c762-4d8d-be95-b6b9c69dab72",
   "metadata": {},
   "outputs": [],
   "source": [
    "import os"
   ]
  },
  {
   "cell_type": "code",
   "execution_count": 14,
   "id": "38e340b7-cd5e-461c-9dba-441be3faa7c3",
   "metadata": {},
   "outputs": [
    {
     "data": {
      "text/plain": [
       "{'tls://10.0.15.133:39945': 35,\n",
       " 'tls://10.0.6.121:44257': 35,\n",
       " 'tls://10.0.7.27:41709': 35,\n",
       " 'tls://10.0.7.47:38287': 35,\n",
       " 'tls://10.0.8.170:39291': 35}"
      ]
     },
     "execution_count": 14,
     "metadata": {},
     "output_type": "execute_result"
    }
   ],
   "source": [
    "client.run(os.getpid)"
   ]
  },
  {
   "cell_type": "code",
   "execution_count": null,
   "id": "9c7e484b-72bc-4363-8ef5-6f0428fd670f",
   "metadata": {},
   "outputs": [],
   "source": [
    "client.run(os.getpid, workers=[])"
   ]
  },
  {
   "cell_type": "code",
   "execution_count": null,
   "id": "9e063c12-2683-4def-99e1-aa4d957c61b4",
   "metadata": {},
   "outputs": [],
   "source": []
  },
  {
   "cell_type": "code",
   "execution_count": null,
   "id": "de826c83-3d48-4546-b01a-487d3e1a2141",
   "metadata": {},
   "outputs": [],
   "source": []
  },
  {
   "cell_type": "markdown",
   "id": "405f61a9-f6fd-4324-987a-4996310d3085",
   "metadata": {},
   "source": [
    "## 4. Do some Dask debugging"
   ]
  },
  {
   "cell_type": "code",
   "execution_count": 16,
   "id": "b26190ed-46eb-4403-96f9-567ccc022bf6",
   "metadata": {},
   "outputs": [],
   "source": [
    "# get status of each worker in your cluster\n",
    "def get_status(dask_worker):\n",
    "    return dask_worker.status"
   ]
  },
  {
   "cell_type": "code",
   "execution_count": 17,
   "id": "0eee8fc3-4cc8-42bd-ac92-883d026d16af",
   "metadata": {},
   "outputs": [
    {
     "data": {
      "text/plain": [
       "{'tls://10.0.15.133:39945': <Status.running: 'running'>,\n",
       " 'tls://10.0.6.121:44257': <Status.running: 'running'>,\n",
       " 'tls://10.0.7.27:41709': <Status.running: 'running'>,\n",
       " 'tls://10.0.7.47:38287': <Status.running: 'running'>,\n",
       " 'tls://10.0.8.170:39291': <Status.running: 'running'>}"
      ]
     },
     "execution_count": 17,
     "metadata": {},
     "output_type": "execute_result"
    }
   ],
   "source": [
    "client.run(get_status)"
   ]
  },
  {
   "cell_type": "code",
   "execution_count": null,
   "id": "9a7e63bb-9507-4c69-bb7a-2fa57801a662",
   "metadata": {},
   "outputs": [],
   "source": []
  },
  {
   "cell_type": "code",
   "execution_count": 18,
   "id": "41453176-c1d3-443d-8ff9-6091df2bb14e",
   "metadata": {},
   "outputs": [
    {
     "data": {
      "text/plain": [
       "{'tls://10.0.15.133:39945': '/scratch/dask-worker-space/worker-4i8a76uf',\n",
       " 'tls://10.0.6.121:44257': '/scratch/dask-worker-space/worker-7b_e3ej2',\n",
       " 'tls://10.0.7.27:41709': '/scratch/dask-worker-space/worker-u9vt3kxf',\n",
       " 'tls://10.0.7.47:38287': '/scratch/dask-worker-space/worker-kp8vlhue',\n",
       " 'tls://10.0.8.170:39291': '/scratch/dask-worker-space/worker-pka7wzsu'}"
      ]
     },
     "execution_count": 18,
     "metadata": {},
     "output_type": "execute_result"
    }
   ],
   "source": [
    "# find where each worker is spilling data to disk\n",
    "client.run(lambda dask_worker: dask_worker.local_directory)"
   ]
  },
  {
   "cell_type": "code",
   "execution_count": null,
   "id": "dff7593a-9c8b-4c85-8827-845645eb6f23",
   "metadata": {},
   "outputs": [],
   "source": []
  },
  {
   "cell_type": "code",
   "execution_count": null,
   "id": "a2740863-e93d-4db9-a76a-ad4c509dcb42",
   "metadata": {},
   "outputs": [],
   "source": []
  },
  {
   "cell_type": "code",
   "execution_count": null,
   "id": "16ffcffb-2d05-4d3e-bb10-2561dfb1f8d2",
   "metadata": {},
   "outputs": [],
   "source": []
  },
  {
   "cell_type": "markdown",
   "id": "68ce31c0-dcc4-4744-8355-f9e17f2942d4",
   "metadata": {},
   "source": [
    "## Other `client.` functions you might find useful\n",
    "The flexibility doesn't end with `client.run()`\n",
    "\n",
    "Consider taking a look at:\n",
    "\n",
    "`client.submit()`: to submit a function to Dask scheduler to be run asynchronously\n",
    "\n",
    "`client.map()`: to map a function onto multiple objects\n",
    "\n",
    "`client.scatter()`: to scatter data from local client into distributed memory\n",
    "\n",
    "`client.upload_file`: to upload a single file or package (.zip, .egg, . ) to all workers"
   ]
  },
  {
   "cell_type": "code",
   "execution_count": null,
   "id": "e59acab3-a64f-4a21-917b-054d44b7a983",
   "metadata": {},
   "outputs": [],
   "source": [
    "Docmentation."
   ]
  },
  {
   "cell_type": "code",
   "execution_count": null,
   "id": "09559b26-8df0-43e1-b94e-77a4397fca3b",
   "metadata": {},
   "outputs": [],
   "source": []
  },
  {
   "cell_type": "code",
   "execution_count": null,
   "id": "dd1270b8-25c5-47ce-979d-a65e89e9695b",
   "metadata": {},
   "outputs": [],
   "source": []
  }
 ],
 "metadata": {
  "kernelspec": {
   "display_name": "Python [conda env:coiled] *",
   "language": "python",
   "name": "conda-env-coiled-py"
  },
  "language_info": {
   "codemirror_mode": {
    "name": "ipython",
    "version": 3
   },
   "file_extension": ".py",
   "mimetype": "text/x-python",
   "name": "python",
   "nbconvert_exporter": "python",
   "pygments_lexer": "ipython3",
   "version": "3.10.6"
  }
 },
 "nbformat": 4,
 "nbformat_minor": 5
}
