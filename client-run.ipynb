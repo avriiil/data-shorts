{
 "cells": [
  {
   "cell_type": "markdown",
   "id": "7bf5cf54-ac27-47b4-ac28-316723ae43c5",
   "metadata": {},
   "source": [
    "# Flexibile Distributed Computing with `client.run()`"
   ]
  },
  {
   "cell_type": "code",
   "execution_count": null,
   "id": "e85a88c7-b808-49db-a126-370a12eb48e3",
   "metadata": {},
   "outputs": [],
   "source": []
  },
  {
   "cell_type": "markdown",
   "id": "d38fe48f-1baf-4fcc-817e-325b6cb69551",
   "metadata": {},
   "source": [
    "## Launch Cloud Computing Resources"
   ]
  },
  {
   "cell_type": "code",
   "execution_count": 1,
   "id": "030282b7-717f-4aaf-befe-32e93814b7d7",
   "metadata": {},
   "outputs": [],
   "source": [
    "import coiled"
   ]
  },
  {
   "cell_type": "code",
   "execution_count": 2,
   "id": "513ba8a4-dceb-4c7d-8c0e-84091b7e38b9",
   "metadata": {},
   "outputs": [
    {
     "data": {
      "text/html": [
       "<pre style=\"white-space:pre;overflow-x:auto;line-height:normal;font-family:Menlo,'DejaVu Sans Mono',consolas,'Courier New',monospace\">╭───────────────────────────────────────── <span style=\"color: #008000; text-decoration-color: #008000; font-weight: bold\">Package Issues</span> ─────────────────────────────────────────╮\n",
       "│                      ╷                                                          ╷                │\n",
       "│  <span style=\"font-weight: bold\"> Package            </span>│<span style=\"font-weight: bold\"> Issue                                                    </span>│<span style=\"font-weight: bold\"> Risk Level   </span>  │\n",
       "│ ╶────────────────────┼──────────────────────────────────────────────────────────┼──────────────╴ │\n",
       "│   libgfortran5       │ 11.3.0 has no install candidate for linux-64             │                │\n",
       "│   libgfortran        │ 5.0.0 has no install candidate for linux-64              │                │\n",
       "│   grpcio             │ 1.46.3 has no install candidate for linux-64             │                │\n",
       "│   grpc-cpp           │ 1.46.3 has no install candidate for linux-64             │                │\n",
       "│   arrow-cpp          │ 8.0.0 has no install candidate for linux-64              │                │\n",
       "│   openssl            │ Package ignored                                          │                │\n",
       "│   libabseil          │ Package ignored                                          │                │\n",
       "│   coiled-runtime     │ Package ignored                                          │                │\n",
       "│   abseil-cpp         │ Package ignored                                          │                │\n",
       "│                      ╵                                                          ╵                │\n",
       "╰──────────────────────────────────────────────────────────────────────────────────────────────────╯\n",
       "</pre>\n"
      ],
      "text/plain": [
       "╭───────────────────────────────────────── \u001b[1;32mPackage Issues\u001b[0m ─────────────────────────────────────────╮\n",
       "│                      ╷                                                          ╷                │\n",
       "│  \u001b[1m \u001b[0m\u001b[1mPackage           \u001b[0m\u001b[1m \u001b[0m│\u001b[1m \u001b[0m\u001b[1mIssue                                                   \u001b[0m\u001b[1m \u001b[0m│\u001b[1m \u001b[0m\u001b[1mRisk Level  \u001b[0m\u001b[1m \u001b[0m  │\n",
       "│ ╶────────────────────┼──────────────────────────────────────────────────────────┼──────────────╴ │\n",
       "│   libgfortran5       │ 11.3.0 has no install candidate for linux-64             │                │\n",
       "│   libgfortran        │ 5.0.0 has no install candidate for linux-64              │                │\n",
       "│   grpcio             │ 1.46.3 has no install candidate for linux-64             │                │\n",
       "│   grpc-cpp           │ 1.46.3 has no install candidate for linux-64             │                │\n",
       "│   arrow-cpp          │ 8.0.0 has no install candidate for linux-64              │                │\n",
       "│   openssl            │ Package ignored                                          │                │\n",
       "│   libabseil          │ Package ignored                                          │                │\n",
       "│   coiled-runtime     │ Package ignored                                          │                │\n",
       "│   abseil-cpp         │ Package ignored                                          │                │\n",
       "│                      ╵                                                          ╵                │\n",
       "╰──────────────────────────────────────────────────────────────────────────────────────────────────╯\n"
      ]
     },
     "metadata": {},
     "output_type": "display_data"
    },
    {
     "data": {
      "application/vnd.jupyter.widget-view+json": {
       "model_id": "d8a4bdb4bbc14b70bfb6943e51f3d3e0",
       "version_major": 2,
       "version_minor": 0
      },
      "text/plain": [
       "Output()"
      ]
     },
     "metadata": {},
     "output_type": "display_data"
    },
    {
     "data": {
      "text/html": [
       "<pre style=\"white-space:pre;overflow-x:auto;line-height:normal;font-family:Menlo,'DejaVu Sans Mono',consolas,'Courier New',monospace\"></pre>\n"
      ],
      "text/plain": []
     },
     "metadata": {},
     "output_type": "display_data"
    }
   ],
   "source": [
    "cluster = coiled.Cluster(\n",
    "    name=\"client-run\",\n",
    "    n_workers=5,\n",
    "    package_sync=True,\n",
    ")"
   ]
  },
  {
   "cell_type": "code",
   "execution_count": 3,
   "id": "a6c000b0-f146-478a-a560-7d957f63814d",
   "metadata": {},
   "outputs": [
    {
     "name": "stderr",
     "output_type": "stream",
     "text": [
      "/Users/rpelgrim/mambaforge/envs/crt/lib/python3.10/site-packages/distributed/client.py:1274: VersionMismatchWarning: Mismatched versions found\n",
      "\n",
      "+---------+--------+-----------+---------+\n",
      "| Package | client | scheduler | workers |\n",
      "+---------+--------+-----------+---------+\n",
      "| lz4     | 4.0.0  | 4.0.2     | 4.0.2   |\n",
      "+---------+--------+-----------+---------+\n",
      "  warnings.warn(version_module.VersionMismatchWarning(msg[0][\"warning\"]))\n"
     ]
    }
   ],
   "source": [
    "from distributed import Client\n",
    "client = Client(cluster)"
   ]
  },
  {
   "cell_type": "code",
   "execution_count": null,
   "id": "d31b09dc-af44-4594-a663-5580f27a42ae",
   "metadata": {},
   "outputs": [],
   "source": []
  },
  {
   "cell_type": "markdown",
   "id": "42b5be16-75f3-4c38-84fa-6932cf67f401",
   "metadata": {},
   "source": [
    "## Do Some Dask Things"
   ]
  },
  {
   "cell_type": "code",
   "execution_count": 4,
   "id": "76cfcb27-0011-43ec-8ce9-6a03fd5441c4",
   "metadata": {},
   "outputs": [],
   "source": [
    "import dask.dataframe as dd"
   ]
  },
  {
   "cell_type": "code",
   "execution_count": 6,
   "id": "768cee71-fae8-452f-a794-c75cef171655",
   "metadata": {},
   "outputs": [
    {
     "data": {
      "text/html": [
       "<div>\n",
       "<style scoped>\n",
       "    .dataframe tbody tr th:only-of-type {\n",
       "        vertical-align: middle;\n",
       "    }\n",
       "\n",
       "    .dataframe tbody tr th {\n",
       "        vertical-align: top;\n",
       "    }\n",
       "\n",
       "    .dataframe thead th {\n",
       "        text-align: right;\n",
       "    }\n",
       "</style>\n",
       "<table border=\"1\" class=\"dataframe\">\n",
       "  <thead>\n",
       "    <tr style=\"text-align: right;\">\n",
       "      <th></th>\n",
       "      <th>user</th>\n",
       "      <th>repo</th>\n",
       "      <th>created_at</th>\n",
       "      <th>message</th>\n",
       "      <th>author</th>\n",
       "    </tr>\n",
       "  </thead>\n",
       "  <tbody>\n",
       "    <tr>\n",
       "      <th>0</th>\n",
       "      <td>soumith</td>\n",
       "      <td>soumith/fbcunn</td>\n",
       "      <td>2015-01-01T01:00:00Z</td>\n",
       "      <td>back to old structure, except lua files moved out</td>\n",
       "      <td>Soumith Chintala</td>\n",
       "    </tr>\n",
       "    <tr>\n",
       "      <th>1</th>\n",
       "      <td>soumith</td>\n",
       "      <td>soumith/fbcunn</td>\n",
       "      <td>2015-01-01T01:00:00Z</td>\n",
       "      <td>...</td>\n",
       "      <td>Soumith Chintala</td>\n",
       "    </tr>\n",
       "    <tr>\n",
       "      <th>2</th>\n",
       "      <td>soumith</td>\n",
       "      <td>soumith/fbcunn</td>\n",
       "      <td>2015-01-01T01:00:00Z</td>\n",
       "      <td>...</td>\n",
       "      <td>Soumith Chintala</td>\n",
       "    </tr>\n",
       "    <tr>\n",
       "      <th>3</th>\n",
       "      <td>soumith</td>\n",
       "      <td>soumith/fbcunn</td>\n",
       "      <td>2015-01-01T01:00:00Z</td>\n",
       "      <td>...</td>\n",
       "      <td>Soumith Chintala</td>\n",
       "    </tr>\n",
       "    <tr>\n",
       "      <th>4</th>\n",
       "      <td>radix</td>\n",
       "      <td>radix/effect</td>\n",
       "      <td>2015-01-01T01:00:00Z</td>\n",
       "      <td>put the auto-generated API docs in the reposit...</td>\n",
       "      <td>Christopher Armstrong</td>\n",
       "    </tr>\n",
       "  </tbody>\n",
       "</table>\n",
       "</div>"
      ],
      "text/plain": [
       "      user            repo            created_at  \\\n",
       "0  soumith  soumith/fbcunn  2015-01-01T01:00:00Z   \n",
       "1  soumith  soumith/fbcunn  2015-01-01T01:00:00Z   \n",
       "2  soumith  soumith/fbcunn  2015-01-01T01:00:00Z   \n",
       "3  soumith  soumith/fbcunn  2015-01-01T01:00:00Z   \n",
       "4    radix    radix/effect  2015-01-01T01:00:00Z   \n",
       "\n",
       "                                             message                 author  \n",
       "0  back to old structure, except lua files moved out       Soumith Chintala  \n",
       "1                                                ...       Soumith Chintala  \n",
       "2                                                ...       Soumith Chintala  \n",
       "3                                                ...       Soumith Chintala  \n",
       "4  put the auto-generated API docs in the reposit...  Christopher Armstrong  "
      ]
     },
     "execution_count": 6,
     "metadata": {},
     "output_type": "execute_result"
    }
   ],
   "source": [
    "ddf = dd.read_parquet(\"s3://coiled-datasets/github-archive/github-archive-2015.parq/\")\n",
    "ddf.head()"
   ]
  },
  {
   "cell_type": "code",
   "execution_count": 7,
   "id": "6195a402-43cb-4ab2-9f41-c127a6188f21",
   "metadata": {},
   "outputs": [
    {
     "data": {
      "text/html": [
       "<div>\n",
       "<style scoped>\n",
       "    .dataframe tbody tr th:only-of-type {\n",
       "        vertical-align: middle;\n",
       "    }\n",
       "\n",
       "    .dataframe tbody tr th {\n",
       "        vertical-align: top;\n",
       "    }\n",
       "\n",
       "    .dataframe thead th {\n",
       "        text-align: right;\n",
       "    }\n",
       "</style>\n",
       "<table border=\"1\" class=\"dataframe\">\n",
       "  <thead>\n",
       "    <tr style=\"text-align: right;\">\n",
       "      <th></th>\n",
       "      <th>repo</th>\n",
       "      <th>created_at</th>\n",
       "      <th>message</th>\n",
       "      <th>author</th>\n",
       "    </tr>\n",
       "    <tr>\n",
       "      <th>user</th>\n",
       "      <th></th>\n",
       "      <th></th>\n",
       "      <th></th>\n",
       "      <th></th>\n",
       "    </tr>\n",
       "  </thead>\n",
       "  <tbody>\n",
       "    <tr>\n",
       "      <th>1995parham</th>\n",
       "      <td>873</td>\n",
       "      <td>873</td>\n",
       "      <td>873</td>\n",
       "      <td>873</td>\n",
       "    </tr>\n",
       "    <tr>\n",
       "      <th>247321453</th>\n",
       "      <td>78</td>\n",
       "      <td>78</td>\n",
       "      <td>78</td>\n",
       "      <td>78</td>\n",
       "    </tr>\n",
       "    <tr>\n",
       "      <th>3DJakob</th>\n",
       "      <td>36</td>\n",
       "      <td>36</td>\n",
       "      <td>36</td>\n",
       "      <td>36</td>\n",
       "    </tr>\n",
       "    <tr>\n",
       "      <th>3ft9</th>\n",
       "      <td>13</td>\n",
       "      <td>13</td>\n",
       "      <td>13</td>\n",
       "      <td>13</td>\n",
       "    </tr>\n",
       "    <tr>\n",
       "      <th>501st-alpha1</th>\n",
       "      <td>451</td>\n",
       "      <td>451</td>\n",
       "      <td>451</td>\n",
       "      <td>451</td>\n",
       "    </tr>\n",
       "  </tbody>\n",
       "</table>\n",
       "</div>"
      ],
      "text/plain": [
       "              repo  created_at  message  author\n",
       "user                                           \n",
       "1995parham     873         873      873     873\n",
       "247321453       78          78       78      78\n",
       "3DJakob         36          36       36      36\n",
       "3ft9            13          13       13      13\n",
       "501st-alpha1   451         451      451     451"
      ]
     },
     "execution_count": 7,
     "metadata": {},
     "output_type": "execute_result"
    }
   ],
   "source": [
    "ddf.groupby('user').count().head()"
   ]
  },
  {
   "cell_type": "code",
   "execution_count": null,
   "id": "eaed1164-a308-40e8-90f1-1334e16d9c26",
   "metadata": {},
   "outputs": [],
   "source": []
  },
  {
   "cell_type": "markdown",
   "id": "54845a1c-7544-4e71-a1ea-467f4ede0a43",
   "metadata": {},
   "source": [
    "## Do Some Generic Python Things"
   ]
  },
  {
   "cell_type": "code",
   "execution_count": 13,
   "id": "647a7c83-fc06-46ef-82cd-92ab387874ed",
   "metadata": {},
   "outputs": [],
   "source": [
    "def create_txt_file(content):\n",
    "    file = open('myfile.txt', 'w+')\n",
    "    file.write(content)\n",
    "    file.close()"
   ]
  },
  {
   "cell_type": "code",
   "execution_count": 14,
   "id": "29bc12c9-429d-4929-82a1-932f0c40bf25",
   "metadata": {},
   "outputs": [
    {
     "data": {
      "text/plain": [
       "{'tls://10.0.11.72:40443': None,\n",
       " 'tls://10.0.13.9:34641': None,\n",
       " 'tls://10.0.2.42:41165': None,\n",
       " 'tls://10.0.7.127:40571': None,\n",
       " 'tls://10.0.9.206:34523': None}"
      ]
     },
     "execution_count": 14,
     "metadata": {},
     "output_type": "execute_result"
    }
   ],
   "source": [
    "client.run(create_txt_file, \"Add some content to our file.\")"
   ]
  },
  {
   "cell_type": "code",
   "execution_count": 16,
   "id": "d6da5e38-66b4-43b8-aced-7afdbb8edb47",
   "metadata": {},
   "outputs": [],
   "source": [
    "def read_file(filename):\n",
    "    file = open(filename, \"r\")\n",
    "    print(file.read())"
   ]
  },
  {
   "cell_type": "code",
   "execution_count": 17,
   "id": "19702254-969c-454c-ad8c-a8cd83e8cad7",
   "metadata": {},
   "outputs": [
    {
     "data": {
      "text/plain": [
       "{'tls://10.0.11.72:40443': None,\n",
       " 'tls://10.0.13.9:34641': None,\n",
       " 'tls://10.0.2.42:41165': None,\n",
       " 'tls://10.0.7.127:40571': None,\n",
       " 'tls://10.0.9.206:34523': None}"
      ]
     },
     "execution_count": 17,
     "metadata": {},
     "output_type": "execute_result"
    }
   ],
   "source": [
    "client.run(read_file, \"myfile.txt\")"
   ]
  },
  {
   "cell_type": "code",
   "execution_count": 18,
   "id": "2a56010f-8382-41a0-b9af-74424c13982a",
   "metadata": {},
   "outputs": [
    {
     "data": {
      "text/plain": [
       "{'tls://10.0.11.72:40443': 36,\n",
       " 'tls://10.0.13.9:34641': 36,\n",
       " 'tls://10.0.2.42:41165': 36,\n",
       " 'tls://10.0.7.127:40571': 36,\n",
       " 'tls://10.0.9.206:34523': 36}"
      ]
     },
     "execution_count": 18,
     "metadata": {},
     "output_type": "execute_result"
    }
   ],
   "source": [
    "client.run(os.getpid)"
   ]
  },
  {
   "cell_type": "code",
   "execution_count": null,
   "id": "9e41613d-3255-488c-8051-6c32c18437c4",
   "metadata": {},
   "outputs": [],
   "source": []
  },
  {
   "cell_type": "markdown",
   "id": "59c44f63-1b21-4bbe-9f19-2e170ad4c117",
   "metadata": {},
   "source": [
    "## Load a Model"
   ]
  },
  {
   "cell_type": "code",
   "execution_count": null,
   "id": "faab67a2-b12c-4148-abbf-4694a5dd0d98",
   "metadata": {},
   "outputs": [],
   "source": []
  },
  {
   "cell_type": "code",
   "execution_count": null,
   "id": "64927c1c-0ee3-4e61-9bb0-5a84af6d9903",
   "metadata": {},
   "outputs": [],
   "source": []
  },
  {
   "cell_type": "code",
   "execution_count": null,
   "id": "3dd9b837-4921-475a-a772-d41c47ca6da9",
   "metadata": {},
   "outputs": [],
   "source": []
  },
  {
   "cell_type": "code",
   "execution_count": null,
   "id": "ec25fe73-e1c3-41dd-9209-0a1d565dee25",
   "metadata": {},
   "outputs": [],
   "source": []
  },
  {
   "cell_type": "markdown",
   "id": "f4f1775e-4524-41e5-b874-954c2406bc3a",
   "metadata": {},
   "source": [
    "## Do Some System Things"
   ]
  },
  {
   "cell_type": "code",
   "execution_count": 9,
   "id": "57bf45ef-c762-4d8d-be95-b6b9c69dab72",
   "metadata": {},
   "outputs": [],
   "source": [
    "import os"
   ]
  },
  {
   "cell_type": "code",
   "execution_count": 10,
   "id": "38e340b7-cd5e-461c-9dba-441be3faa7c3",
   "metadata": {},
   "outputs": [
    {
     "data": {
      "text/plain": [
       "{'tls://10.0.11.72:40443': None,\n",
       " 'tls://10.0.13.9:34641': None,\n",
       " 'tls://10.0.2.42:41165': None,\n",
       " 'tls://10.0.7.127:40571': None,\n",
       " 'tls://10.0.9.206:34523': None}"
      ]
     },
     "execution_count": 10,
     "metadata": {},
     "output_type": "execute_result"
    }
   ],
   "source": [
    "client.run(os.mkdir, \"my-directory\")"
   ]
  },
  {
   "cell_type": "code",
   "execution_count": 15,
   "id": "9c7e484b-72bc-4363-8ef5-6f0428fd670f",
   "metadata": {},
   "outputs": [
    {
     "data": {
      "text/plain": [
       "{'tls://10.0.11.72:40443': 0,\n",
       " 'tls://10.0.13.9:34641': 0,\n",
       " 'tls://10.0.2.42:41165': 0,\n",
       " 'tls://10.0.7.127:40571': 0,\n",
       " 'tls://10.0.9.206:34523': 0}"
      ]
     },
     "execution_count": 15,
     "metadata": {},
     "output_type": "execute_result"
    }
   ],
   "source": [
    "client.run(os.system, \"ls\")"
   ]
  },
  {
   "cell_type": "code",
   "execution_count": null,
   "id": "9e063c12-2683-4def-99e1-aa4d957c61b4",
   "metadata": {},
   "outputs": [],
   "source": []
  },
  {
   "cell_type": "code",
   "execution_count": null,
   "id": "de826c83-3d48-4546-b01a-487d3e1a2141",
   "metadata": {},
   "outputs": [],
   "source": []
  },
  {
   "cell_type": "markdown",
   "id": "405f61a9-f6fd-4324-987a-4996310d3085",
   "metadata": {},
   "source": [
    "## Do Some Dask Debugging"
   ]
  },
  {
   "cell_type": "code",
   "execution_count": 8,
   "id": "41453176-c1d3-443d-8ff9-6091df2bb14e",
   "metadata": {},
   "outputs": [
    {
     "data": {
      "text/plain": [
       "{'tls://10.0.11.72:40443': '/scratch/dask-worker-space/worker-a9vxc2xf',\n",
       " 'tls://10.0.13.9:34641': '/scratch/dask-worker-space/worker-re_nsb7_',\n",
       " 'tls://10.0.2.42:41165': '/scratch/dask-worker-space/worker-1siihsgu',\n",
       " 'tls://10.0.7.127:40571': '/scratch/dask-worker-space/worker-fj7utl8b',\n",
       " 'tls://10.0.9.206:34523': '/scratch/dask-worker-space/worker-u0x0seip'}"
      ]
     },
     "execution_count": 8,
     "metadata": {},
     "output_type": "execute_result"
    }
   ],
   "source": [
    "# find where each worker is spilling data to disk\n",
    "client.run(lambda dask_worker: dask_worker.local_directory)"
   ]
  },
  {
   "cell_type": "code",
   "execution_count": null,
   "id": "dff7593a-9c8b-4c85-8827-845645eb6f23",
   "metadata": {},
   "outputs": [],
   "source": []
  },
  {
   "cell_type": "code",
   "execution_count": null,
   "id": "ef3a0878-89de-488e-a1fc-93b2a5b9b0b2",
   "metadata": {},
   "outputs": [],
   "source": []
  }
 ],
 "metadata": {
  "kernelspec": {
   "display_name": "Python [conda env:crt]",
   "language": "python",
   "name": "conda-env-crt-py"
  },
  "language_info": {
   "codemirror_mode": {
    "name": "ipython",
    "version": 3
   },
   "file_extension": ".py",
   "mimetype": "text/x-python",
   "name": "python",
   "nbconvert_exporter": "python",
   "pygments_lexer": "ipython3",
   "version": "3.10.6"
  }
 },
 "nbformat": 4,
 "nbformat_minor": 5
}
